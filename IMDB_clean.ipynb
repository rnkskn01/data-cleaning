{
 "cells": [
  {
   "cell_type": "markdown",
   "id": "e3e51091",
   "metadata": {},
   "source": [
    "### 📝 Project Overview - Data Cleaning\n",
    "### 🎬 IMDB Dataset"
   ]
  },
  {
   "cell_type": "markdown",
   "id": "79a914d8",
   "metadata": {},
   "source": [
    "This dataset contains 100 movies from the IMDb database and 11 variables: IMBd movie ID, original title, release year, genre, duration, country, content rating, director's name, worldwide income, number of votes and IMDb score. It contains plenty of errors: missing values, empty rows and columns, bad variable names, multiple or wrong date formats, numeric columns containing symbols, units, characters, thousand separators, multiple and wrong decimal separators, typographic mistakes and a multiple categorical variable miscoded as a unique character variable. The goal is to improve data quality in preparation for accurate analysis."
   ]
  },
  {
   "cell_type": "markdown",
   "id": "eceb43b2",
   "metadata": {},
   "source": [
    "### 1. Loading the dataset"
   ]
  },
  {
   "cell_type": "code",
   "execution_count": null,
   "id": "a4651912",
   "metadata": {},
   "outputs": [],
   "source": [
    "import pandas as pd\n",
    "import re"
   ]
  },
  {
   "cell_type": "code",
   "execution_count": null,
   "id": "3a7d9d94",
   "metadata": {},
   "outputs": [],
   "source": [
    "df = pd.read_excel(\"messy_IMDB_dataset.xlsx\")\n",
    "print(df.head())"
   ]
  },
  {
   "cell_type": "markdown",
   "id": "08b133da",
   "metadata": {},
   "source": [
    "### 2. Formatting"
   ]
  },
  {
   "cell_type": "code",
   "execution_count": null,
   "id": "6940080b",
   "metadata": {},
   "outputs": [],
   "source": [
    "# Split the single column into multiple columns\n",
    "df = df.iloc[:,0].str.split(\";\", expand=True)\n",
    "\n",
    "# Convert column names to strings\n",
    "df.columns = df.columns.astype(str)\n",
    "\n",
    "# Drop completely empty columns (see double ;; following Director column)\n",
    "df = df.loc[:, (df != \"\").any(axis=0)]"
   ]
  },
  {
   "cell_type": "code",
   "execution_count": null,
   "id": "b24f944e",
   "metadata": {},
   "outputs": [],
   "source": [
    "print(df.head())"
   ]
  },
  {
   "cell_type": "code",
   "execution_count": null,
   "id": "508180e8",
   "metadata": {},
   "outputs": [],
   "source": [
    "# Rename columns\n",
    "df.columns = [\n",
    "    \"ID\", \"title\", \"release_yr\", \"genre\",\n",
    "    \"duration\", \"country\", \"content_rating\", \"director\",\n",
    "    \"income\", \"votes\", \"score\"\n",
    "]"
   ]
  },
  {
   "cell_type": "code",
   "execution_count": null,
   "id": "0232ac8c",
   "metadata": {},
   "outputs": [],
   "source": [
    "# Print rows with at least one NaN\n",
    "rows_with_na = df[df.isna().any(axis=1)]\n",
    "\n",
    "print(rows_with_na)"
   ]
  },
  {
   "cell_type": "code",
   "execution_count": null,
   "id": "168c92a7",
   "metadata": {},
   "outputs": [],
   "source": [
    "# Fix datetime format (yyyy-mm-dd)\n",
    "import re\n",
    "\n",
    "def clean_date(date_str):\n",
    "    if pd.isna(date_str):\n",
    "        return None\n",
    "    \n",
    "    s = str(date_str).strip()\n",
    "    s = re.sub(r\"[-]+\", \"-\", s)        # replace multiple dashes\n",
    "    s = re.sub(r\"\\s+\", \" \", s)         # replace multiple spaces\n",
    "    \n",
    "    try:\n",
    "        # Try default flexible parser\n",
    "        return pd.to_datetime(s, errors=\"raise\", dayfirst=True)\n",
    "    except:\n",
    "        # Try month-day-year (e.g. \"09 21 1972\")\n",
    "        try:\n",
    "            return pd.to_datetime(s, format=\"%m %d %Y\", errors=\"raise\")\n",
    "        except:\n",
    "            return None\n",
    "\n",
    "# Apply parsing\n",
    "parsed_dates = df[\"release_yr\"].apply(clean_date)\n",
    "\n",
    "# Create new columns:\n",
    "df[\"release_parsed\"] = parsed_dates.dt.strftime(\"%Y-%m-%d\")\n",
    "df[\"release_flag\"]   = parsed_dates.isna()  # True = parsing failed\n",
    "\n",
    "# Show flagged rows\n",
    "flagged = df[df[\"release_flag\"]]\n",
    "print(flagged[[\"title\", \"release_yr\"]])\n"
   ]
  },
  {
   "cell_type": "code",
   "execution_count": null,
   "id": "e4bc646b",
   "metadata": {},
   "outputs": [],
   "source": [
    "# Cross-check - web search\n",
    "# Manually fix specific rows by index\n",
    "df.loc[70, \"release_parsed\"] = \"1951-03-06\"  # \"The 6th of marzo, year 1951\"\n",
    "df.loc[83, \"release_parsed\"] = \"1984-02-24\"  # corrected invalid day\n",
    "df.loc[84, \"release_parsed\"] = \"1976-12-24\"  # corrected invalid month/day\n",
    "\n",
    "# Remove empty title/release_yr row 13\n",
    "df = df[df[\"release_yr\"].str.strip() != \"\"] \n",
    "\n",
    "# Update the flag column after manual fixes\n",
    "df[\"release_flag\"] = df[\"release_parsed\"].isna()"
   ]
  },
  {
   "cell_type": "code",
   "execution_count": null,
   "id": "f598448e",
   "metadata": {},
   "outputs": [],
   "source": [
    "# Replace original column with cleaned dates\n",
    "df[\"release_yr\"] = df[\"release_parsed\"]\n",
    "\n",
    "# Drop helper column\n",
    "df = df.drop(columns=[\"release_parsed\"])\n",
    "df = df.drop(columns=['release_flag'])\n",
    "\n",
    "print(df.head())"
   ]
  },
  {
   "cell_type": "code",
   "execution_count": null,
   "id": "d44cc507",
   "metadata": {},
   "outputs": [],
   "source": [
    "# Fix numeric columns\n",
    "# Remove $ and non-numeric characters\n",
    "df[\"income\"] = df[\"income\"].astype(str).str.replace(r\"[^\\d.]\", \"\", regex=True)\n",
    "df[\"income\"] = pd.to_numeric(df[\"income\"], errors=\"coerce\")\n",
    "\n",
    "# Remove dots, commas, non-numeric\n",
    "df[\"votes\"] = df[\"votes\"].astype(str).str.replace(r\"[^\\d]\", \"\", regex=True)\n",
    "df[\"votes\"] = pd.to_numeric(df[\"votes\"], errors=\"coerce\")\n",
    "\n",
    "# Clean score column (replace comma or letter mistakes with dot)\n",
    "df[\"score\"] = df[\"score\"].astype(str).str.replace(\",\", \".\", regex=False)  # replace commas with dot\n",
    "df[\"score\"] = df[\"score\"].str.extract(r\"(\\d+\\.?\\d*)\")  # keep only numbers\n",
    "df[\"score\"] = pd.to_numeric(df[\"score\"], errors=\"coerce\")\n",
    "\n",
    "# Check the cleaned data\n",
    "print(df[[\"income\", \"votes\", \"score\"]].head())"
   ]
  },
  {
   "cell_type": "code",
   "execution_count": null,
   "id": "4619b0de",
   "metadata": {},
   "outputs": [],
   "source": [
    "# Highest grossing movie\n",
    "top_movie = df.loc[df['income'].idxmax()]\n",
    "print(top_movie) # Endgame"
   ]
  },
  {
   "cell_type": "code",
   "execution_count": null,
   "id": "0d28402e",
   "metadata": {},
   "outputs": [],
   "source": [
    "# Top 3 highest grossing movies\n",
    "top_3 = df.sort_values(by=\"income\", ascending=False).head(3)\n",
    "\n",
    "print(top_3)"
   ]
  }
 ],
 "metadata": {
  "kernelspec": {
   "display_name": "Python 3 (ipykernel)",
   "language": "python",
   "name": "python3"
  },
  "language_info": {
   "codemirror_mode": {
    "name": "ipython",
    "version": 3
   },
   "file_extension": ".py",
   "mimetype": "text/x-python",
   "name": "python",
   "nbconvert_exporter": "python",
   "pygments_lexer": "ipython3",
   "version": "3.11.5"
  }
 },
 "nbformat": 4,
 "nbformat_minor": 5
}
